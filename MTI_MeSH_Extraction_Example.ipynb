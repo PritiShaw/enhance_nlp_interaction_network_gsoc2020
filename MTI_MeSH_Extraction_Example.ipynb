{
  "nbformat": 4,
  "nbformat_minor": 0,
  "metadata": {
    "colab": {
      "name": "MTI MeSH Extraction Example.ipynb",
      "provenance": [],
      "collapsed_sections": []
    },
    "kernelspec": {
      "name": "python3",
      "display_name": "Python 3"
    }
  },
  "cells": [
    {
      "cell_type": "markdown",
      "metadata": {
        "id": "IeZZPIWgCy_P",
        "colab_type": "text"
      },
      "source": [
        "MTI MeSH Extraction Example\n",
        "---\n",
        "\n",
        "### Purpose\n",
        "This Notebook demonstrates how MTI can be used in Python using Pyjnius to get MeSH terms from arbitary text. "
      ]
    },
    {
      "cell_type": "markdown",
      "metadata": {
        "id": "DujWngTpReqn",
        "colab_type": "text"
      },
      "source": [
        "### Pyjnius Setup"
      ]
    },
    {
      "cell_type": "code",
      "metadata": {
        "id": "5sE0ZLEtSeq4",
        "colab_type": "code",
        "colab": {}
      },
      "source": [
        "%%capture\n",
        "!pip install pyjnius"
      ],
      "execution_count": null,
      "outputs": []
    },
    {
      "cell_type": "code",
      "metadata": {
        "id": "YaD6EV1FCtSk",
        "colab_type": "code",
        "colab": {}
      },
      "source": [
        "# Required for running in Colab\n",
        "!mkdir -p /usr/lib/jvm/java-1.11.0-openjdk-amd64/jre/lib/amd64/server/\n",
        "!ln -s /usr/lib/jvm/java-1.11.0-openjdk-amd64/lib/server/libjvm.so /usr/lib/jvm/java-1.11.0-openjdk-amd64/jre/lib/amd64/server/libjvm.so"
      ],
      "execution_count": null,
      "outputs": []
    },
    {
      "cell_type": "code",
      "metadata": {
        "id": "3ybTueZhSO-q",
        "colab_type": "code",
        "colab": {}
      },
      "source": [
        "import os\n",
        "os.environ[\"JAVA_HOME\"] = \"/usr/lib/jvm/java-11-openjdk-amd64\""
      ],
      "execution_count": null,
      "outputs": []
    },
    {
      "cell_type": "markdown",
      "metadata": {
        "id": "YP6Z34yxqH8q",
        "colab_type": "text"
      },
      "source": [
        "###  MeSH extraction using WebAPI "
      ]
    },
    {
      "cell_type": "markdown",
      "metadata": {
        "id": "I5VAbn3W9EcK",
        "colab_type": "text"
      },
      "source": [
        "#### Download JAR files\n",
        "\n",
        "The JAR files are taken from [Web API](https://ii.nlm.nih.gov/Web_API/index.shtml) and can be download from [here](https://ii.nlm.nih.gov/Web_API/SKR_Web_API_V2_3.jar), [source code](https://github.com/ziy/skr-webapi).\n",
        "\n",
        "`GenericBatchNew` is implemented using the example [Java code](https://github.com/ziy/skr-webapi/blob/master/src/example/java/GenericBatchNew.java) provided in the website.\n"
      ]
    },
    {
      "cell_type": "code",
      "metadata": {
        "id": "7gtn0xPe9JkP",
        "colab_type": "code",
        "colab": {
          "base_uri": "https://localhost:8080/",
          "height": 119
        },
        "outputId": "6409e60f-8838-4a29-acc3-5d5c7f812e3d"
      },
      "source": [
        "!git clone https://gist.github.com/94e946a6916e7d2676b6efb9cc00db05.git lib"
      ],
      "execution_count": null,
      "outputs": [
        {
          "output_type": "stream",
          "text": [
            "Cloning into 'lib'...\n",
            "remote: Enumerating objects: 12, done.\u001b[K\n",
            "remote: Counting objects:   8% (1/12)\u001b[K\rremote: Counting objects:  16% (2/12)\u001b[K\rremote: Counting objects:  25% (3/12)\u001b[K\rremote: Counting objects:  33% (4/12)\u001b[K\rremote: Counting objects:  41% (5/12)\u001b[K\rremote: Counting objects:  50% (6/12)\u001b[K\rremote: Counting objects:  58% (7/12)\u001b[K\rremote: Counting objects:  66% (8/12)\u001b[K\rremote: Counting objects:  75% (9/12)\u001b[K\rremote: Counting objects:  83% (10/12)\u001b[K\rremote: Counting objects:  91% (11/12)\u001b[K\rremote: Counting objects: 100% (12/12)\u001b[K\rremote: Counting objects: 100% (12/12), done.\u001b[K\n",
            "remote: Compressing objects:  10% (1/10)\u001b[K\rremote: Compressing objects:  20% (2/10)\u001b[K\rremote: Compressing objects:  30% (3/10)\u001b[K\rremote: Compressing objects:  40% (4/10)\u001b[K\rremote: Compressing objects:  50% (5/10)\u001b[K\rremote: Compressing objects:  60% (6/10)\u001b[K\rremote: Compressing objects:  70% (7/10)\u001b[K\rremote: Compressing objects:  80% (8/10)\u001b[K\rremote: Compressing objects:  90% (9/10)\u001b[K\rremote: Compressing objects: 100% (10/10)\u001b[K\rremote: Compressing objects: 100% (10/10), done.\u001b[K\n",
            "Unpacking objects:   8% (1/12)   \rUnpacking objects:  16% (2/12)   \rUnpacking objects:  25% (3/12)   \rUnpacking objects:  33% (4/12)   \rUnpacking objects:  41% (5/12)   \rUnpacking objects:  50% (6/12)   \rUnpacking objects:  58% (7/12)   \rUnpacking objects:  66% (8/12)   \rremote: Total 12 (delta 0), reused 9 (delta 0), pack-reused 0\u001b[K\n",
            "Unpacking objects:  75% (9/12)   \rUnpacking objects:  83% (10/12)   \rUnpacking objects:  91% (11/12)   \rUnpacking objects: 100% (12/12)   \rUnpacking objects: 100% (12/12), done.\n"
          ],
          "name": "stdout"
        }
      ]
    },
    {
      "cell_type": "markdown",
      "metadata": {
        "id": "4FcvKMMe_d3g",
        "colab_type": "text"
      },
      "source": [
        "#### MeSH Extraction\n",
        "\n",
        "The JAR Files present in `lib` directory are added to classpath.  \n",
        "\n",
        "Function `getMeSH` sends the credentials and text to MTI WebAPI for extracting the MeSH terms and returns the result as it is.   \n",
        "\n",
        "Individual column can be interpreted from this [MTI Output Help Information](https://ii.nlm.nih.gov/resource/MTI_output_help_info.html)."
      ]
    },
    {
      "cell_type": "code",
      "metadata": {
        "id": "PSj9LSAQA5rR",
        "colab_type": "code",
        "colab": {}
      },
      "source": [
        "import jnius_config\n",
        "jnius_config.add_classpath(\"./lib/*\")"
      ],
      "execution_count": null,
      "outputs": []
    },
    {
      "cell_type": "code",
      "metadata": {
        "id": "Xw8ibDBgSffI",
        "colab_type": "code",
        "colab": {}
      },
      "source": [
        "import getpass \n",
        "from jnius import autoclass\n",
        "\n",
        "def getMeSH(text,username,email_id,password):\n",
        "  GenericBatchNew = autoclass(\"GenericBatchNew\")\n",
        "  batch = GenericBatchNew()\n",
        "  tmp_filepath = \"/tmp/abstract_mti.txt\"\n",
        "  with open(tmp_filepath,\"wb\") as input_file:\n",
        "    input_file.write(text.encode('ascii'))\n",
        "  result = batch.processor([\"--email\", email_id ,tmp_filepath],username, password)\n",
        "  return result"
      ],
      "execution_count": null,
      "outputs": []
    },
    {
      "cell_type": "code",
      "metadata": {
        "id": "QI56J_ai_4-j",
        "colab_type": "code",
        "colab": {
          "base_uri": "https://localhost:8080/",
          "height": 564
        },
        "outputId": "19f5909c-0b24-491c-cb30-8210dae68986"
      },
      "source": [
        "print(\"If you dont have account, register at https://uts.nlm.nih.gov/license.html\")\n",
        "email_id = input(\"Please enter Email address : \")\n",
        "username = input(\"Please enter Username : \")\n",
        "password = getpass.getpass(prompt='Please enter Password : ') \n",
        "text = input(\"Enter text to process : \")\n",
        "\n",
        "print(\"\\n\\nMeSH Terms\\n\")\n",
        "print(getMeSH(text,username,email_id,password))"
      ],
      "execution_count": null,
      "outputs": [
        {
          "output_type": "stream",
          "text": [
            "If you dont have account, register at https://uts.nlm.nih.gov/license.html\n",
            "Please enter Email address : pritishaw0103@gmail.com\n",
            "Please enter Username : PritiShaw\n",
            "Please enter Password : ··········\n",
            "Enter text to process : R-HSA-164843    2-LTR circle formation  The formation of 2-LTR circles requires the action of the cellular non-homologous DNA end-joining pathway. Specifically the cellular Ku, XRCC4 and ligase IV proteins are needed. Evidence for this is provided by the observation that cells mutant in these functions do not support detectable formation of 2-LTR circles, though integration and formation of 1-LTR circles are mostly normal. The reaction takes place in the nucleus, and formation of 2-LTR circles has been used as a surrogate assay for nuclear transport. It has also been suggested that the NHEJ system affects the toxicity of retroviral infection.  R-HSA-73843 5-Phosphoribose 1-diphosphate biosynthesis  5-Phospho-alpha-D-ribose 1-diphosphate (PRPP) is a key intermediate in both the de novo and salvage pathways of purine and pyrimidine synthesis. PRPP and the enzymatic activity responsible for its synthesis were first described by Kornberg et al. (1955). The enzyme, phosphoribosyl pyrophosphate synthetase 1, has been purified from human erythrocytes and characterized biochemically. The purified enzyme readily forms multimers; its smallest active form appears to be a dimer and for simplicity it is annotated as a dimer here. It specifically catalyzes the transfer of pyrophosphate from ATP or dATP to D-ribose 5-phosphate, and has an absolute requirement for Mg++ and orthophosphate (Fox and Kelley 1971; Roth et al. 1974). The significance of the reaction with dATP in vivo is unclear, as the concentration of cytosolic dATP is normally much lower than that of ATP. The importance of this enzyme for purine synthesis in vivo has been established by demonstrating excess phosphoribosyl pyrophosphate synthetase activity, correlated with elevated enzyme levels or altered enzyme properties, in individuals whose rates of uric acid production are constitutively abnormally high (Becker and Kim 1987; Roessler et al. 1993).<P>Molecular cloning studies have revealed the existence of two additional genes that encode phosphoribosyl pyrophosphate synthetase-like proteins, one widely expressed (phosphoribosyl pyrophosphate synthetase 2) and one whose expression appears to be confined to the testis (phosphoribosyl pyrophosphate synthetase 1-like 1) (Taira et al. 1989; 1991). Neither of these proteins has been purified and characterized enzymatically, nor have variations in the abundance or sequence of either protein been associated with alterations in human nucleotide metabolism (Roessler et al. 1993; Becker et al. 1996), so their dimerization and ability to catalyze the synthesis of PRPP from D-ribose 5-phosphate are inferred here on the basis of their predicted amino acid sequence similarity to phosphoribosyl pyrophosphate synthetase 1.\n",
            "\n",
            "\n",
            "MeSH Terms\n",
            "\n",
            "00000000|Animals|C0003062|134534|CT|Foxes;CT Treecode Lookup: B01.050.150.900.649.313.750 (Foxes)||MM;RC\n",
            "00000000|Male|C0086582|134534|CT|Testis;CT Treecode Lookup: A05.360.444 (Testis)||MM\n",
            "00000000|Humans|C0086418|134534|CT|Forced Leaf Node Lookup:humans;CT Text Lookup: human;CT Text Lookup: individuals|TI|MM;RC|1041^5^0;2465^5^0;1805^11^0;1062^5^0;1826^11^0\n",
            "00000000|*Ribose-Phosphate Pyrophosphokinase|C0035551|132473|MH|RtM via: Ribose-Phosphate Pyrophosphokinase;Forced Leaf Node Lookup:phosphoribosyl pyrophosphate synthetase;checkForceMH Boosted|TI|MM;RC|2025^39^0;975^39^0;1683^39^0;2102^39^0;2208^39^0;2715^39^0\n",
            "00000000|ribose-5-phosphate|C0140515|97338|NM|RtM via: ribose-5-phosphate;Forced SCR Leaf Node Lookup:d-ribose 5-phosphate|TI|MM|2612^18^0;1315^18^0;1313^20^0;2610^20^0\n",
            "00000000|*Ribose|C0035549|72551|MH|RtM via: Ribose;Forced Leaf Node Lookup:d-ribose;checkForceMH Boosted|TI|MM|726^6^0;724^8^0\n",
            "00000000|diphosphoric acid|C0663812|62639|NM|RtM via: Pyrophosphate|TI|MM|1279^13^0\n",
            "00000000|*Diphosphates|C0034320|62638|MH|RtM via: Diphosphates;RtM via: Pyrophosphate;Forced Leaf Node Lookup:pyrophosphates|TI|MM|1279^13^0;682^11^0\n",
            "00000000|*Amino Acid Sequence|C0002518|62356|MH|RtM via: Amino Acid Sequence;Forced Leaf Node Lookup:amino acid sequences|TI|MM;RC|2681^19^0\n",
            "00000000|*Uric Acid|C0041980|58865|MH|RtM via: Uric Acid;Forced Leaf Node Lookup:uric acid;checkForceMH Boosted|TI|MM|1832^9^0\n",
            "00000000|*Active Transport, Cell Nucleus|C0872070|58279|MH|RtM via: nucleocytoplasmic transport;Forced Leaf Node Lookup:nuclear transport|TI|MM|538^17^0\n",
            "00000000|*Foxes|C0016633|55268|MH|Forced Leaf Node Lookup:fox;checkForceMH Boosted|TI|MM|1396^3^0\n",
            "00000000|*DNA End-Joining Repair|C3178859|51112|MH|RtM via: Non-Homologous DNA End-Joining;Forced Leaf Node Lookup:non-homologous dna end-joining|TI|MM|593^4^0;107^30^0\n",
            "00000000|*Orthophosphate|C0029356|41077|ET|Entry Term Replacement for \"Phosphates\";RtM via: Orthophosphate;checkForceMH Boosted|TI|MM;RC|1380^14^0\n",
            "00000000|*Dimerization|C0376525|34702|MH|RtM via: Dimerization;Forced Leaf Node Lookup:dimerizations|TI|MM|2546^12^0\n",
            "00000000|*Testis|C0039597|30040|MH|RtM via: Testis;Forced Leaf Node Lookup:testis|TI|MM|2200^6^0\n",
            "00000000|purine|C0220903|133534|NM|RtM via: purine|TI|MM|1613^6^0;820^6^0\n",
            "00000000|*Purines|C0034140|133533|MH|RtM via: Purines;RtM via: purine;Forced Non-Leaf Node Lookup:purines|TI|MM;RC|1613^6^0;820^6^0\n",
            "00000000|*Ribosemonophosphates|C0035550|97337|HM|RtM via: ribose-5-phosphate|TI|MM;RC|2612^18^0;1315^18^0\n",
            "00000000|pyrimidine|C0034284|67354|NM|RtM via: Pyrimidine|TI|MM|831^10^0\n",
            "00000000|*Pyrimidines|C0034289|67353|MH|RtM via: Pyrimidine;RtM via: Pyrimidines;Forced Non-Leaf Node Lookup:pyrimidines|TI|MM;RC|831^10^0\n",
            "\n"
          ],
          "name": "stdout"
        }
      ]
    }
  ]
}